{
 "cells": [
  {
   "cell_type": "code",
   "execution_count": 2,
   "id": "6832f4b6",
   "metadata": {},
   "outputs": [],
   "source": [
    "from manim import *\n",
    "config.verbosity = \"WARNING\"\n",
    "config.media_width = \"100%\""
   ]
  },
  {
   "cell_type": "code",
   "execution_count": 3,
   "id": "daae47bb",
   "metadata": {},
   "outputs": [],
   "source": [
    "from manim import *\n",
    "from ipywidgets import IntSlider, FloatSlider, Button, HBox, VBox, TwoByTwoLayout\n",
    "from IPython.display import display\n",
    "\n",
    "# storing configurations for integer sliders\n",
    "sliders_config = {\n",
    "    'rho': {\n",
    "        'default': 20,\n",
    "        'min': 0,\n",
    "        'max': 20,\n",
    "        'step': 1,\n",
    "        'tip': 'φ'\n",
    "    },\n",
    "    'phi': {\n",
    "        'default': 45,\n",
    "        'min': -90,\n",
    "        'max': 90,\n",
    "        'step': 5,\n",
    "        'tip': 'ρ'\n",
    "    },\n",
    "    'theta': {\n",
    "        'default': 30,\n",
    "        'min': 0,\n",
    "        'max': 360,\n",
    "        'step': 5,\n",
    "        'tip': 'ϴ'\n",
    "    },\n",
    "}\n",
    "\n",
    "# using list comprehension to create a list of sliders for phi, theta, and rho\n",
    "sliders = [\n",
    "    IntSlider(\n",
    "        value=var_config['default'],\n",
    "        min=var_config['min'],\n",
    "        max=var_config['max'],\n",
    "        step=var_config['step'],\n",
    "        description=var,\n",
    "        tooltip=var_config['tip'],\n",
    "        orientation=\"vertical\"\n",
    "    ) for var, var_config in sliders_config.items()\n",
    "]\n",
    "\n",
    "# adding float slider to the list for zoom\n",
    "sliders.append(\n",
    "    FloatSlider(\n",
    "        value=0.9,\n",
    "        min=0.5,\n",
    "        max=2.0,\n",
    "        step=0.1,\n",
    "        description='zoom',\n",
    "        tooltip='zoom',\n",
    "        orientation=\"vertical\"\n",
    "    )\n",
    ")"
   ]
  },
  {
   "cell_type": "code",
   "execution_count": 4,
   "id": "1e90519e",
   "metadata": {},
   "outputs": [],
   "source": [
    "def create_scene(scene: ThreeDScene, camera_rho: float, camera_phi: float, camera_theta: float, camera_zoom: float):\n",
    "        # Create a 3D coordinate system with specified range and labels\n",
    "        axes = ThreeDAxes(\n",
    "            x_range=[-10, 10, 1], \n",
    "            y_range=[-10, 10, 1], \n",
    "            z_range=[-10, 10, 1],\n",
    "            x_length=10,\n",
    "            y_length=10,\n",
    "            z_length=7\n",
    "        )\n",
    "        \n",
    "        # Creating axes labels\n",
    "        x_label = Text(\"x\").next_to(axes.get_x_axis().get_end(), RIGHT)\n",
    "        y_label = Text(\"y\").next_to(axes.get_y_axis().get_end(), UP)\n",
    "        z_label = Text(\"z\").next_to(axes.get_z_axis().get_end(), OUT)\n",
    "        \n",
    "        # Rotate the axes labels to face the camera\n",
    "        x_label.rotate(PI / 2, axis=RIGHT)\n",
    "        y_label.rotate(PI / 2, axis=RIGHT).rotate(PI, axis=OUT)\n",
    "        z_label.rotate(PI / 2, axis=RIGHT).rotate(PI / 2, axis=OUT)\n",
    "\n",
    "        # Define a 3x3 transformation matrix\n",
    "        m = [\n",
    "            [1, 1, 0 ], \n",
    "            [-1, 1, 0], \n",
    "            [0, 0, 1 ]\n",
    "        ]\n",
    "        \n",
    "        # Create label for transformation matrix\n",
    "        m_label = Matrix(m)\n",
    "        m_label.scale(0.5)\n",
    "\n",
    "        # Use add_fixed_in_frame_mobjects to fix the label in the frame\n",
    "        scene.add_fixed_in_frame_mobjects(m_label)\n",
    "        # Position it at the top left\n",
    "        m_label.to_edge(UL, buff=0.1) \n",
    "        \n",
    "        \n",
    "        # Create a 3D vector and label\n",
    "        v = Vector([1, 2, 1])\n",
    "        v_label = MathTex(\"\\\\vec{v}\").next_to(v.get_end(), RIGHT)\n",
    "        \n",
    "        # Create transformed vector and label\n",
    "        v_t = v.copy().apply_matrix(m)\n",
    "        v_t.set_color(RED)\n",
    "        v_t_label = MathTex(\"T(\\\\vec{v})\").next_to(v_t.get_end(), RIGHT)\n",
    "        v_t_label.rotate(PI / 2, axis=RIGHT).rotate(PI / 2, axis=OUT)\n",
    "\n",
    "        # Add elements to the 3D scene\n",
    "        scene.set_camera_orientation(focal_distance=camera_rho, phi=camera_phi * DEGREES, theta=camera_theta * DEGREES, zoom=camera_zoom)\n",
    "        scene.add(axes, x_label, y_label, z_label, v, v_label)\n",
    "        scene.wait(3)\n",
    "        # Animate the transformation\n",
    "        scene.play(Transform(v, v_t), Transform(v_label, v_t_label))\n",
    "        scene.wait(3)\n",
    "\n",
    "        \n",
    "\n",
    "def get_vars_and_create_scene(scene: ThreeDScene):\n",
    "    # capture scene properties from sliders\n",
    "    args = [sliders[i].value for i in range(len(sliders))]\n",
    "    # create scene\n",
    "    create_scene(scene, camera_rho=args[0], camera_phi=args[1], camera_theta=args[2], camera_zoom=args[3])\n",
    "\n",
    "class VectorTransformation3D(ThreeDScene):\n",
    "    def construct(self):\n",
    "        get_vars_and_create_scene(self)\n",
    "        \n"
   ]
  },
  {
   "cell_type": "code",
   "execution_count": 5,
   "id": "808b19e0",
   "metadata": {},
   "outputs": [
    {
     "data": {
      "application/vnd.jupyter.widget-view+json": {
       "model_id": "2207dd4ed4c74bc29c0fe39939484a0d",
       "version_major": 2,
       "version_minor": 0
      },
      "text/plain": [
       "VBox(children=(HBox(children=(IntSlider(value=20, description='rho', max=20, orientation='vertical', tooltip='…"
      ]
     },
     "execution_count": 5,
     "metadata": {},
     "output_type": "execute_result"
    }
   ],
   "source": [
    "# grouping vertical sliders via layout \n",
    "sliders_box = HBox(sliders)\n",
    "\n",
    "# button to trigger \n",
    "button = Button(\n",
    "    description='Go',\n",
    "    disabled=False,\n",
    "    button_style='', # 'success', 'info', 'warning', 'danger' or ''\n",
    "    tooltip='Create manim video'\n",
    ")\n",
    "button.style.button_color = 'lightgreen'\n",
    "\n",
    "# Todo: implement callback function so that video is rendered at click of a button\n",
    "def button_callback(button: Button):\n",
    "    pass\n",
    "    \n",
    "button.on_click(button_callback)\n",
    "VBox([sliders_box, button])"
   ]
  },
  {
   "cell_type": "code",
   "execution_count": 7,
   "id": "614429d8",
   "metadata": {},
   "outputs": [
    {
     "data": {
      "text/html": [
       "<pre style=\"white-space:pre;overflow-x:auto;line-height:normal;font-family:Menlo,'DejaVu Sans Mono',consolas,'Courier New',monospace\">Manim Community <span style=\"color: #008000; text-decoration-color: #008000\">v0.18.1</span>\n",
       "\n",
       "</pre>\n"
      ],
      "text/plain": [
       "Manim Community \u001b[32mv0.\u001b[0m\u001b[32m18.1\u001b[0m\n",
       "\n"
      ]
     },
     "metadata": {},
     "output_type": "display_data"
    },
    {
     "name": "stderr",
     "output_type": "stream",
     "text": [
      "                                                                                                                       \r"
     ]
    },
    {
     "data": {
      "text/html": [
       "<video src=\"media\\jupyter\\VectorTransformation3D@2024-05-21@20-24-53.mp4\" controls autoplay loop style=\"max-width: 100%;\"  >\n",
       "      Your browser does not support the <code>video</code> element.\n",
       "    </video>"
      ],
      "text/plain": [
       "<IPython.core.display.Video object>"
      ]
     },
     "metadata": {},
     "output_type": "display_data"
    }
   ],
   "source": [
    "# magic command to render video\n",
    "# available qualities: l m h p k\n",
    "%manim --quality m VectorTransformation3D"
   ]
  },
  {
   "cell_type": "code",
   "execution_count": null,
   "id": "1d586454",
   "metadata": {},
   "outputs": [],
   "source": []
  }
 ],
 "metadata": {
  "kernelspec": {
   "display_name": "manim",
   "language": "python",
   "name": "manim"
  },
  "language_info": {
   "codemirror_mode": {
    "name": "ipython",
    "version": 3
   },
   "file_extension": ".py",
   "mimetype": "text/x-python",
   "name": "python",
   "nbconvert_exporter": "python",
   "pygments_lexer": "ipython3",
   "version": "3.12.3"
  }
 },
 "nbformat": 4,
 "nbformat_minor": 5
}
