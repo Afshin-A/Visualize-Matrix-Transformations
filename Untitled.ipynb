{
 "cells": [
  {
   "cell_type": "code",
   "execution_count": 55,
   "id": "a033d73c",
   "metadata": {
    "scrolled": true
   },
   "outputs": [
    {
     "data": {
      "application/vnd.jupyter.widget-view+json": {
       "model_id": "53703da45fc443fb8eabc3f2e8b34769",
       "version_major": 2,
       "version_minor": 0
      },
      "text/plain": [
       "VBox(children=(HBox(children=(IntSlider(value=30, description='a', max=360, orientation='vertical', step=5), I…"
      ]
     },
     "execution_count": 55,
     "metadata": {},
     "output_type": "execute_result"
    }
   ],
   "source": [
    "from ipywidgets import IntSlider, Button, HBox, VBox, TwoByTwoLayout\n",
    "from IPython.display import display\n",
    "\n",
    "button_names = ['a', 'b', 'c']\n",
    "\n",
    "sliders = [IntSlider(value=30, min=0, max=360, step=5, description=button_name, orientation=\"vertical\") for button_name in button_names]\n",
    "sliders_box = HBox(sliders)\n",
    "\n",
    "button = Button(\n",
    "    description='Go',\n",
    "    disabled=False,\n",
    "    button_style='', # 'success', 'info', 'warning', 'danger' or ''\n",
    "    tooltip='Create manim video'\n",
    ")\n",
    "button.style.button_color = 'lightgreen'\n",
    "button.on_click(lambda button : print('hi'))\n",
    "\n",
    "# automatically displays without calling display()\n",
    "VBox([sliders_box, button])"
   ]
  },
  {
   "cell_type": "code",
   "execution_count": 19,
   "id": "dd78d2e1",
   "metadata": {},
   "outputs": [
    {
     "name": "stdout",
     "output_type": "stream",
     "text": [
      "30\n",
      "174\n",
      "188\n"
     ]
    }
   ],
   "source": [
    "print(a.value)\n",
    "print(b.value)\n",
    "print(c.value)"
   ]
  },
  {
   "cell_type": "code",
   "execution_count": null,
   "id": "4cf5652d",
   "metadata": {},
   "outputs": [],
   "source": []
  }
 ],
 "metadata": {
  "kernelspec": {
   "display_name": "Python 3 (ipykernel)",
   "language": "python",
   "name": "python3"
  },
  "language_info": {
   "codemirror_mode": {
    "name": "ipython",
    "version": 3
   },
   "file_extension": ".py",
   "mimetype": "text/x-python",
   "name": "python",
   "nbconvert_exporter": "python",
   "pygments_lexer": "ipython3",
   "version": "3.12.3"
  }
 },
 "nbformat": 4,
 "nbformat_minor": 5
}
